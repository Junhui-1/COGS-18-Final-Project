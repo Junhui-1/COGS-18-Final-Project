{
 "cells": [
  {
   "cell_type": "markdown",
   "metadata": {},
   "source": [
    "# Project Description"
   ]
  },
  {
   "cell_type": "markdown",
   "metadata": {},
   "source": [
    "My project is a chatbot called Alva. Users can play the number guessing game or just chat freely with her. \n",
    "\n",
    "<br>\n",
    "<br>\n",
    "\n",
    "For the chatbot:\n",
    "- The frame of the chatbot is mainly got from A3.\n",
    "- The user can type 'guess' to play the number guessing game.\n",
    "- To quit the chatbot, type 'quit'.\n",
    "<br>\n",
    "<br>\n",
    "\n",
    "During the guessing game:\n",
    "- The user can quit the game anytime by typing 'quit game'. \n",
    "- There are guidelines to guide the user to play the game without any confusions.\n",
    "- The user is not limited to input integers, though only integers could be processed.\n",
    "- When the game is active, the user can type anything without being disrupted by errors run. \n",
    "- The user is able to set a customized range, and a target number between the range will be randomly set. \n",
    "- If the user types a customized maximum that is smaller or equal to the customized minimum set before, the chatbot will alert the user to set a valid maximum. \n",
    "- If the user mistakenly types a string that cannot be transformed to an integer, the game will warn the user to input a valid integer.\n",
    "- The user can view his/her numbers of attempts.\n",
    "\n",
    "<br>\n",
    "In general, Alva and her number guessing game is user friendly, and I hope the user can enjoy the chat with her!"
   ]
  },
  {
   "cell_type": "markdown",
   "metadata": {},
   "source": [
    "## Project Code\n",
    "\n",
    "If it makes sense for your project, you can have code and outputs here in the notebook as well."
   ]
  },
  {
   "cell_type": "code",
   "execution_count": 1,
   "metadata": {},
   "outputs": [],
   "source": [
    "from my_module.functions import *\n",
    "from my_module.test_functions import *"
   ]
  },
  {
   "cell_type": "code",
   "execution_count": 2,
   "metadata": {},
   "outputs": [
    {
     "name": "stdout",
     "output_type": "stream",
     "text": [
      "Hello, this is Alva, a happy chatbot!  \n",
      "You can play the number guessing game by typing 'guess'  or just chat with me!  \n",
      "To quit, please type 'quit'.\n",
      "INPUT :\thei\n",
      "OUTPUT: Thanks!\n",
      "INPUT :\tguess\n",
      "OUTPUT: Huh?\n",
      "===========Guessing Game!===========\n",
      "The Number Guessing Game will begin, hope you enjoy it! \n",
      " Remember you can quit the game anytime by typing 'quit game'! \n",
      " Please set a range first.\n",
      "Minimum :\te\n",
      "Oops! That was not a valid minimum. \n",
      "Please type a non-negative integer  or type 'quit game' to leave the game.\n",
      "Minimum :\t2\n",
      "Maximum :\t1\n",
      "Oops! That was not a valid maximum. \n",
      "Please make sure the maximum > the minimum.\n",
      "To leave the game, type 'quit game'.\n",
      "Maximum :\tquit game\n",
      "=========You leave the game=========\n",
      "Type 'guess' to play again.\n",
      "INPUT :\tguess\n",
      "OUTPUT: Good.\n",
      "===========Guessing Game!===========\n",
      "The Number Guessing Game will begin, hope you enjoy it! \n",
      " Remember you can quit the game anytime by typing 'quit game'! \n",
      " Please set a range first.\n",
      "Minimum :\t8\n",
      "Maximum :\t90\n",
      "Your customized range is  8  -  90 .\n",
      "Your guess:\t70\n",
      "Number of attempts:  1\n",
      "Guess a smaller number.\n",
      "Your guess:\tquit game\n",
      "=========You leave the game=========\n",
      "Type 'guess' to play again.\n",
      "INPUT :\tguess\n",
      "OUTPUT: Okay\n",
      "===========Guessing Game!===========\n",
      "The Number Guessing Game will begin, hope you enjoy it! \n",
      " Remember you can quit the game anytime by typing 'quit game'! \n",
      " Please set a range first.\n",
      "Minimum :\t0\n",
      "Maximum :\t50\n",
      "Your customized range is  0  -  50 .\n",
      "Your guess:\t25\n",
      "Number of attempts:  1\n",
      "Congratulation! The answer is:  25\n",
      "Your number of attempt is:  1\n",
      "===Game ends, type 'guess' to try again :)===\n",
      "INPUT :\tquit\n",
      "OUTPUT: Bye!\n"
     ]
    }
   ],
   "source": [
    "have_a_chat()"
   ]
  },
  {
   "cell_type": "markdown",
   "metadata": {},
   "source": [
    "<br>\n",
    "\n",
    "## Testing"
   ]
  },
  {
   "cell_type": "code",
   "execution_count": 3,
   "metadata": {
    "scrolled": true
   },
   "outputs": [],
   "source": [
    "# test it out\n",
    "test_all()"
   ]
  },
  {
   "cell_type": "code",
   "execution_count": null,
   "metadata": {},
   "outputs": [],
   "source": []
  },
  {
   "cell_type": "markdown",
   "metadata": {},
   "source": [
    "#### Extra Credit (*optional*)\n",
    "\n",
    "Replace all of this text with a brief explanation (~3 sentences) of: \n",
    "1. Your Python Background\n",
    "2. How your project went above and beyond the requirements of the project and/or how you challenged yourself to learn something new with the final project"
   ]
  }
 ],
 "metadata": {
  "kernelspec": {
   "display_name": "Python 3",
   "language": "python",
   "name": "python3"
  },
  "language_info": {
   "codemirror_mode": {
    "name": "ipython",
    "version": 3
   },
   "file_extension": ".py",
   "mimetype": "text/x-python",
   "name": "python",
   "nbconvert_exporter": "python",
   "pygments_lexer": "ipython3",
   "version": "3.7.6"
  }
 },
 "nbformat": 4,
 "nbformat_minor": 2
}
